{
 "cells": [
  {
   "cell_type": "code",
   "execution_count": 1,
   "metadata": {},
   "outputs": [
    {
     "name": "stderr",
     "output_type": "stream",
     "text": [
      "[nltk_data] Downloading package stopwords to\n",
      "[nltk_data]     /Users/oleksandr/nltk_data...\n",
      "[nltk_data]   Package stopwords is already up-to-date!\n",
      "[nltk_data] Downloading package punkt to /Users/oleksandr/nltk_data...\n",
      "[nltk_data]   Package punkt is already up-to-date!\n",
      "[nltk_data] Downloading package punkt_tab to\n",
      "[nltk_data]     /Users/oleksandr/nltk_data...\n",
      "[nltk_data]   Package punkt_tab is already up-to-date!\n",
      "[nltk_data] Downloading package wordnet to\n",
      "[nltk_data]     /Users/oleksandr/nltk_data...\n",
      "[nltk_data]   Package wordnet is already up-to-date!\n",
      "[nltk_data] Downloading package omw-1.4 to\n",
      "[nltk_data]     /Users/oleksandr/nltk_data...\n",
      "[nltk_data]   Package omw-1.4 is already up-to-date!\n",
      "/Users/oleksandr/me/repos/university/diploma/.venv/lib/python3.10/site-packages/tqdm/auto.py:21: TqdmWarning: IProgress not found. Please update jupyter and ipywidgets. See https://ipywidgets.readthedocs.io/en/stable/user_install.html\n",
      "  from .autonotebook import tqdm as notebook_tqdm\n"
     ]
    }
   ],
   "source": [
    "import collections\n",
    "import pathlib\n",
    "import sys\n",
    "\n",
    "from sklearn.preprocessing import MultiLabelBinarizer\n",
    "from tqdm import tqdm\n",
    "\n",
    "sys.path.append(str(pathlib.Path(\"../..\").resolve()))\n",
    "\n",
    "\n",
    "from source.data import (\n",
    "    create_splits,\n",
    "    explode_locc,\n",
    "    explode_multiple_locc,\n",
    "    get_label_to_index_mapping,\n",
    ")\n",
    "from source.files import get_book_text\n",
    "from source.metrics import calculate_flat_binary_metrics\n",
    "from source.models.xgb import (\n",
    "    create_all_minilm_xgboost_model,\n",
    "    create_paraphrase_multilingual_minilm_xgboost_model,\n",
    "    create_tfidf_xgboost_model,\n",
    "    create_bge_m3_xgboost_model\n",
    ")"
   ]
  },
  {
   "cell_type": "code",
   "execution_count": 2,
   "metadata": {},
   "outputs": [],
   "source": [
    "splits = create_splits(verbose=False)\n",
    "X_train, X_test, y_train, y_test = splits"
   ]
  },
  {
   "cell_type": "code",
   "execution_count": 3,
   "metadata": {},
   "outputs": [],
   "source": [
    "NUM_CHUNKS = 10\n",
    "TOKENS_PER_CHUNK = 500"
   ]
  },
  {
   "cell_type": "code",
   "execution_count": 4,
   "metadata": {},
   "outputs": [
    {
     "name": "stderr",
     "output_type": "stream",
     "text": [
      "100%|██████████| 35542/35542 [00:35<00:00, 1002.90it/s]\n",
      "100%|██████████| 13898/13898 [00:14<00:00, 992.34it/s] \n"
     ]
    }
   ],
   "source": [
    "X_train_texts = [\n",
    "    get_book_text(str(num), NUM_CHUNKS, TOKENS_PER_CHUNK)\n",
    "    for num in tqdm(X_train[\"Etext Number\"])\n",
    "]\n",
    "X_test_texts = [\n",
    "    get_book_text(str(num), NUM_CHUNKS, TOKENS_PER_CHUNK)\n",
    "    for num in tqdm(X_test[\"Etext Number\"])\n",
    "]"
   ]
  },
  {
   "cell_type": "code",
   "execution_count": 5,
   "metadata": {},
   "outputs": [
    {
     "name": "stderr",
     "output_type": "stream",
     "text": [
      "/Users/oleksandr/me/repos/university/diploma/.venv/lib/python3.10/site-packages/sklearn/preprocessing/_label.py:909: UserWarning: unknown class(es) ['A'] will be ignored\n",
      "  warnings.warn(\n"
     ]
    }
   ],
   "source": [
    "labels, lti, itl = get_label_to_index_mapping(splits)\n",
    "\n",
    "def get_parent_locc(labels, locc) -> str | None:\n",
    "    for cls in reversed(explode_locc(locc)):\n",
    "        if cls == locc:\n",
    "            continue\n",
    "\n",
    "        if cls in labels:\n",
    "            return cls\n",
    "\n",
    "mlb = MultiLabelBinarizer(classes=labels)\n",
    "y_train_binarized = mlb.fit_transform([explode_multiple_locc(locc) for locc in y_train])\n",
    "y_test_binarized = mlb.transform([explode_multiple_locc(locc) for locc in y_test])"
   ]
  },
  {
   "cell_type": "code",
   "execution_count": 6,
   "metadata": {},
   "outputs": [],
   "source": [
    "models = {\n",
    "    \"tfidf\": lambda: create_tfidf_xgboost_model(),\n",
    "    \"all-minilm\": lambda: create_all_minilm_xgboost_model(),\n",
    "    \"multilingual\": lambda: create_paraphrase_multilingual_minilm_xgboost_model(),\n",
    "    \"bge_m3\": lambda: create_bge_m3_xgboost_model()\n",
    "}"
   ]
  },
  {
   "cell_type": "code",
   "execution_count": 7,
   "metadata": {},
   "outputs": [],
   "source": [
    "model_name = \"bge_m3\"\n",
    "model = models[model_name]()"
   ]
  },
  {
   "cell_type": "code",
   "execution_count": null,
   "metadata": {},
   "outputs": [],
   "source": [
    "model.fit(X_train_texts, y_train_binarized)"
   ]
  },
  {
   "cell_type": "code",
   "execution_count": 13,
   "metadata": {},
   "outputs": [],
   "source": [
    "y_pred_binarized = model.predict(X_test_texts)"
   ]
  },
  {
   "cell_type": "code",
   "execution_count": 14,
   "metadata": {},
   "outputs": [],
   "source": [
    "y_pred_binarized = mlb.transform(y_pred_binarized)"
   ]
  },
  {
   "cell_type": "code",
   "execution_count": 16,
   "metadata": {},
   "outputs": [
    {
     "data": {
      "text/plain": [
       "array([0, 0, 0, 0, 1, 0, 0, 0, 0, 0])"
      ]
     },
     "execution_count": 16,
     "metadata": {},
     "output_type": "execute_result"
    }
   ],
   "source": [
    "y_pred_binarized[0]"
   ]
  },
  {
   "cell_type": "code",
   "execution_count": null,
   "metadata": {},
   "outputs": [],
   "source": [
    "calculate_flat_binary_metrics(y_test_binarized, y_pred_binarized, labels, \"xgboost\", model_name, save=True)"
   ]
  }
 ],
 "metadata": {
  "kernelspec": {
   "display_name": ".venv",
   "language": "python",
   "name": "python3"
  },
  "language_info": {
   "codemirror_mode": {
    "name": "ipython",
    "version": 3
   },
   "file_extension": ".py",
   "mimetype": "text/x-python",
   "name": "python",
   "nbconvert_exporter": "python",
   "pygments_lexer": "ipython3",
   "version": "3.10.16"
  }
 },
 "nbformat": 4,
 "nbformat_minor": 2
}
